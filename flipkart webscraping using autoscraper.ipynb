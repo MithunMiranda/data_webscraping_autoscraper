{
 "cells": [
  {
   "cell_type": "code",
   "execution_count": 1,
   "id": "318b4da6",
   "metadata": {},
   "outputs": [],
   "source": [
    "from autoscraper import AutoScraper"
   ]
  },
  {
   "cell_type": "code",
   "execution_count": 2,
   "id": "f7e5e109",
   "metadata": {},
   "outputs": [],
   "source": [
    "flipkart_url=\"https://www.flipkart.com/search?q=canon&otracker=search&otracker1=search&marketplace=FLIPKART&as-show=on&as=off\"\n",
    "wanted_list=[\"₹28,499\", \"Canon EOS 3000D DSLR Camera 1 Camera Body, 18 - 55 mm Lens\"]"
   ]
  },
  {
   "cell_type": "code",
   "execution_count": 3,
   "id": "a5ae37a4",
   "metadata": {},
   "outputs": [
    {
     "name": "stdout",
     "output_type": "stream",
     "text": [
      "['₹38,490', '₹28,499', '₹59,990', '₹60,990', '₹1,15,990', '₹73,999', '₹1,21,990', '₹89,990', '₹75,621', '₹74,990', '₹599', '₹14,999', '₹10,490', '₹99,999', '₹79,990', '₹3,19,990', '₹95,273', '₹3,15,999', '₹2,03,499', '₹2,02,995', '₹2,89,990', '₹83,999', '₹669', '₹756', 'Canon EOS 1500D DSLR Camera Body+ 18-55 mm IS II Lens', 'Canon EOS 3000D DSLR Camera 1 Camera Body, 18 - 55 mm Lens', 'Canon EOS M50 Mark II Mirrorless Camera EF-M15-45mm is STM Lens', 'Canon EOS 200D II DSLR Camera EF-S18-55mm IS STM', 'Canon EOS R10 Mirrorless Camera Body with RF-S 18 - 150 mm f/3.5 - 6.3 IS STM Lens Kit', 'Canon EOS R50 Mirrorless Camera Body with RF - S 18 - 45 mm f/4.5 - 6.3 IS STM', 'Canon EOS 90D DSLR Camera Body with Single Lens 18 - 135 mm IS USM', 'Canon EOS R10 Mirrorless Camera Body with RF-S 18 - 45 mm f/4.5 - 6.3 IS STM Lens', 'Canon EOS 850D DSLR Camera body with EF-S18-55mm f/4-5.6 IS STM', 'Canon PG 745S for MG3070S / TS207 / TS307 / TS3370s/MG2470/MG2570s Black Ink Cartridge', 'Canon G3012 Multi-function WiFi Color Inkjet Printer (Color Page Cost: 0.21 Rs. | Black Page Cost: 0.0...', 'Canon EF 50 mm f/1.8 STM Standard Prime  Lens', 'Canon EOS 7D Mark II DSLR Camera (Body only)', 'Canon EOS R10 Mirrorless Camera Body Only', 'Canon Full Frame Mirrorless EOS R5 Mirrorless Camera Body', 'Canon EOS 90D DSLR Camera Body Only', 'Canon EOS R6 Mark II Mirrorless Camera Body with 24-105mm USM Lens', 'Canon Full Frame Mirrorless EOS R6 Mirrorless Camera Body', 'Canon EOS 6D Mark II DSLR Camera Body with Single Lens: EF24-105mm f/4L IS II USM', 'Canon EOS 5D Mark IV DSLR Camera Body with Single Lens:EF 24-105mm f/4L IS II USM Lens', 'Canon RP Mirrorless Camera Body Only', 'Canon PG47 Ink Catridge', 'Canon CL-57s for E3370/ E410/E4270/E4570 Tri-Color Ink Cartridge']\n"
     ]
    }
   ],
   "source": [
    "scraper=AutoScraper()\n",
    "result=scraper.build(flipkart_url,wanted_list)\n",
    "print(result)"
   ]
  },
  {
   "cell_type": "code",
   "execution_count": 4,
   "id": "bd9be47f",
   "metadata": {},
   "outputs": [
    {
     "data": {
      "text/plain": [
       "{'rule_gc12': ['₹28,499',\n",
       "  '₹38,490',\n",
       "  '₹59,990',\n",
       "  '₹3,599',\n",
       "  '₹60,990',\n",
       "  '₹1,15,990',\n",
       "  '₹73,999',\n",
       "  '₹75,621',\n",
       "  '₹89,990',\n",
       "  '₹1,21,990',\n",
       "  '₹74,990',\n",
       "  '₹599',\n",
       "  '₹669',\n",
       "  '₹10,490',\n",
       "  '₹99,999',\n",
       "  '₹95,273',\n",
       "  '₹3,15,999',\n",
       "  '₹3,19,990',\n",
       "  '₹79,990',\n",
       "  '₹2,03,499',\n",
       "  '₹2,02,995',\n",
       "  '₹2,89,990',\n",
       "  '₹756',\n",
       "  '₹599'],\n",
       " 'rule_0vaz': ['Canon EOS 3000D DSLR Camera 1 Camera Body, 18 - 55 mm Lens',\n",
       "  'Canon EOS 1500D DSLR Camera Body+ 18-55 mm IS II Lens',\n",
       "  'Canon EOS M50 Mark II Mirrorless Camera EF-M15-45mm is STM Lens',\n",
       "  'Canon MG2570S Multi-function Color Inkjet Printer',\n",
       "  'Canon EOS 200D II DSLR Camera EF-S18-55mm IS STM',\n",
       "  'Canon EOS R10 Mirrorless Camera Body with RF-S 18 - 150 mm f/3.5 - 6.3 IS STM Lens Kit',\n",
       "  'Canon EOS R50 Mirrorless Camera Body with RF - S 18 - 45 mm f/4.5 - 6.3 IS STM',\n",
       "  'Canon EOS 850D DSLR Camera body with EF-S18-55mm f/4-5.6 IS STM',\n",
       "  'Canon EOS R10 Mirrorless Camera Body with RF-S 18 - 45 mm f/4.5 - 6.3 IS STM Lens',\n",
       "  'Canon EOS 90D DSLR Camera Body with Single Lens 18 - 135 mm IS USM',\n",
       "  'Canon EOS R50 Mirrorless Camera Body with RF - S 18 - 45 mm f/4.5 - 6.3 IS STM',\n",
       "  'Canon PG 745S for MG3070S / TS207 / TS307 / TS3370s/MG2470/MG2570s Black Ink Cartridge',\n",
       "  'Canon PG47 Ink Catridge',\n",
       "  'Canon EF 50 mm f/1.8 STM Standard Prime  Lens',\n",
       "  'Canon EOS 7D Mark II DSLR Camera (Body only)',\n",
       "  'Canon EOS 90D DSLR Camera Body Only',\n",
       "  'Canon EOS R6 Mark II Mirrorless Camera Body with 24-105mm USM Lens',\n",
       "  'Canon Full Frame Mirrorless EOS R5 Mirrorless Camera Body',\n",
       "  'Canon EOS R10 Mirrorless Camera Body Only',\n",
       "  'Canon Full Frame Mirrorless EOS R6 Mirrorless Camera Body',\n",
       "  'Canon EOS 6D Mark II DSLR Camera Body with Single Lens: EF24-105mm f/4L IS II USM',\n",
       "  'Canon EOS 5D Mark IV DSLR Camera Body with Single Lens:EF 24-105mm f/4L IS II USM Lens',\n",
       "  'Canon CL-57s for E3370/ E410/E4270/E4570 Tri-Color Ink Cartridge',\n",
       "  'Canon DSLR SHOULDER  Camera Bag'],\n",
       " 'rule_3qb9': ['Canon EOS 3000D DSLR Camera 1 Camera Body, 18 - 55 mm Lens',\n",
       "  'Canon EOS 1500D DSLR Camera Body+ 18-55 mm IS II Lens',\n",
       "  'Canon EOS M50 Mark II Mirrorless Camera EF-M15-45mm is STM Lens',\n",
       "  'Canon MG2570S Multi-function Color Inkjet Printer',\n",
       "  'Canon EOS 200D II DSLR Camera EF-S18-55mm IS STM',\n",
       "  'Canon EOS R10 Mirrorless Camera Body with RF-S 18 - 150 mm f/3.5 - 6.3 IS STM Lens Kit',\n",
       "  'Canon EOS R50 Mirrorless Camera Body with RF - S 18 - 45 mm f/4.5 - 6.3 IS STM',\n",
       "  'Canon EOS 850D DSLR Camera body with EF-S18-55mm f/4-5.6 IS STM',\n",
       "  'Canon EOS R10 Mirrorless Camera Body with RF-S 18 - 45 mm f/4.5 - 6.3 IS STM Lens',\n",
       "  'Canon EOS 90D DSLR Camera Body with Single Lens 18 - 135 mm IS USM',\n",
       "  'Canon EOS R50 Mirrorless Camera Body with RF - S 18 - 45 mm f/4.5 - 6.3 IS STM',\n",
       "  'Canon PG 745S for MG3070S / TS207 / TS307 / TS3370s/MG2470/MG2570s Black Ink Cartridge',\n",
       "  'Canon PG47 Ink Catridge',\n",
       "  'Canon EF 50 mm f/1.8 STM Standard Prime  Lens',\n",
       "  'Canon EOS 7D Mark II DSLR Camera (Body only)',\n",
       "  'Canon EOS 90D DSLR Camera Body Only',\n",
       "  'Canon EOS R6 Mark II Mirrorless Camera Body with 24-105mm USM Lens',\n",
       "  'Canon Full Frame Mirrorless EOS R5 Mirrorless Camera Body',\n",
       "  'Canon EOS R10 Mirrorless Camera Body Only',\n",
       "  'Canon Full Frame Mirrorless EOS R6 Mirrorless Camera Body',\n",
       "  'Canon EOS 6D Mark II DSLR Camera Body with Single Lens: EF24-105mm f/4L IS II USM',\n",
       "  'Canon EOS 5D Mark IV DSLR Camera Body with Single Lens:EF 24-105mm f/4L IS II USM Lens',\n",
       "  'Canon CL-57s for E3370/ E410/E4270/E4570 Tri-Color Ink Cartridge',\n",
       "  'Canon DSLR SHOULDER  Camera Bag']}"
      ]
     },
     "execution_count": 4,
     "metadata": {},
     "output_type": "execute_result"
    }
   ],
   "source": [
    "scraper.get_result_similar(flipkart_url, grouped=True) #gets similar results"
   ]
  },
  {
   "cell_type": "code",
   "execution_count": 5,
   "id": "8f8db782",
   "metadata": {},
   "outputs": [],
   "source": [
    "scraper.set_rule_aliases({'rule_0vaz':'title','rule_gc12':'price' })\n",
    "scraper.keep_rules(['rule_0vaz','rule_gc12']) # save group name\n",
    "scraper.save('flipkart_search_camera') # save this as flipkart search"
   ]
  },
  {
   "cell_type": "code",
   "execution_count": 16,
   "id": "eafb2e83",
   "metadata": {},
   "outputs": [],
   "source": [
    "results=scraper.get_result_similar(\"https://www.flipkart.com/search?q=nikon+cameras&sid=jek%2Cp31%2Ctrv&as=on&as-show=on&otracker=AS_QueryStore_OrganicAutoSuggest_1_5_na_na_ps&otracker1=AS_QueryStore_OrganicAutoSuggest_1_5_na_na_ps&as-pos=1&as-type=RECENT&suggestionId=nikon+cameras%7CDSLR+%26+Mirrorless&requestId=85a2c01b-ec67-4b1b-b608-8ab6033c2052&as-searchtext=nikon\",group_by_alias=True)"
   ]
  },
  {
   "cell_type": "code",
   "execution_count": 17,
   "id": "ebd6afad",
   "metadata": {},
   "outputs": [
    {
     "data": {
      "text/plain": [
       "['NIKON Z5 Mirrorless Camera Z 5 Body',\n",
       " 'NIKON Z 7 Mirrorless Camera Body with Mount Adapter FTZ',\n",
       " 'NIKON Z 6 Mirrorless Camera Body Only',\n",
       " 'NIKON Z5 Mirrorless Camera 24-50 mm',\n",
       " 'NIKON Z50 Mirrorless Camera Nikkor Z DX 18-140 mm f/3.5-6.3 VR',\n",
       " 'NIKON Z30 Mirrorless Camera Z DX 18 - 140 mm f/3.5 - 6.3 VR Lens',\n",
       " 'NIKON D750 DSLR Camera Body with Single Lens: 24-120mm VR Lens',\n",
       " 'NIKON Z5 Mirrorless Camera 24-70 mm',\n",
       " 'NIKON Z7 II Body Mirrorless Camera with 64GB UHS-II SD Card',\n",
       " 'NIKON Z fc Mirrorless Camera Nikkor Z DX 18-140 mm f/3.5-6.3 VR',\n",
       " 'NIKON Z6 II Kit Mirrorless Camera 24-70mm Lens',\n",
       " 'NIKON Z30 Mirrorless Camera Z DX 16 - 50 mm f/3.5 - 6.3 VR & Nikkor Z DX 50 - 250 mm f/4.5 - 6.3 VR Le...',\n",
       " 'NIKON Z6 II Body Mirrorless Camera with 64GB SD Card',\n",
       " 'NIKON Z 7 Mirrorless Camera Body + 24-70mm Lens and Mount Adapter',\n",
       " 'NIKON Z6II-24-120MM DSLR Camera 24-120MM',\n",
       " 'NIKON D 810 DSLR Camera Body with Single Lens: 24-120mm VR Lens',\n",
       " 'NIKON Z 6 Mirrorless Camera Body with 24-70mm Lens and Mount Adapter FTZ',\n",
       " 'NIKON ZFC-28MM DSLR Camera 28MM',\n",
       " 'NIKON D850 DSLR Camera Body Only',\n",
       " 'NIKON Z 6 Mirrorless Camera Body with Mount Adapter FTZ',\n",
       " 'NIKON Z5 Mirrorless Camera 24-200 mm',\n",
       " 'NIKON Z 50 Mirrorless Camera Body with 16-50mm Lens',\n",
       " 'NIKON D850 DSLR Camera 24-120 mm VR Lens',\n",
       " 'NIKON D780 DSLR Camera Body Only']"
      ]
     },
     "execution_count": 17,
     "metadata": {},
     "output_type": "execute_result"
    }
   ],
   "source": [
    "results['title']"
   ]
  },
  {
   "cell_type": "code",
   "execution_count": 18,
   "id": "962a4cc0",
   "metadata": {},
   "outputs": [
    {
     "data": {
      "text/plain": [
       "['₹91,499',\n",
       " '₹2,20,899',\n",
       " '₹1,35,999',\n",
       " '₹1,16,989',\n",
       " '₹98,999',\n",
       " '₹90,999',\n",
       " '₹1,42,899',\n",
       " '₹1,32,999',\n",
       " '₹2,28,899',\n",
       " '₹1,08,999',\n",
       " '₹1,89,999',\n",
       " '₹81,999',\n",
       " '₹1,64,995',\n",
       " '₹2,49,899',\n",
       " '₹2,23,999',\n",
       " '₹2,44,819',\n",
       " '₹1,68,899',\n",
       " '₹97,999',\n",
       " '₹2,23,499',\n",
       " '₹1,59,999',\n",
       " '₹1,44,999',\n",
       " '₹71,999',\n",
       " '₹2,58,999',\n",
       " '₹1,70,999']"
      ]
     },
     "execution_count": 18,
     "metadata": {},
     "output_type": "execute_result"
    }
   ],
   "source": [
    "results['price']"
   ]
  },
  {
   "cell_type": "code",
   "execution_count": null,
   "id": "eee831ca",
   "metadata": {},
   "outputs": [],
   "source": []
  }
 ],
 "metadata": {
  "kernelspec": {
   "display_name": "Python 3 (ipykernel)",
   "language": "python",
   "name": "python3"
  },
  "language_info": {
   "codemirror_mode": {
    "name": "ipython",
    "version": 3
   },
   "file_extension": ".py",
   "mimetype": "text/x-python",
   "name": "python",
   "nbconvert_exporter": "python",
   "pygments_lexer": "ipython3",
   "version": "3.9.12"
  }
 },
 "nbformat": 4,
 "nbformat_minor": 5
}
